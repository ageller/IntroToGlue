{
 "cells": [
  {
   "cell_type": "markdown",
   "id": "f915f5ef",
   "metadata": {},
   "source": [
    "# Explore NEO data with [Glue](http://docs.glueviz.org/en/stable/index.html)\n",
    "\n",
    "*Glue allows users to build linked, interactive figures from files and python datasets.  It can be run as a standalone application or launched from python.  In this tutorial, we will explore running glue from a jupyter notebook.*\n",
    "\n",
    "*We'll work with [Near-Earth object (NEO)](https://en.wikipedia.org/wiki/Near-Earth_object) data. I downloaded NEO data from the [JPL Small-Body Database](https://ssd.jpl.nasa.gov/sbdb_query.cgi) and the [NEO Earth Close Approaches archive](https://cneos.jpl.nasa.gov/ca/).  Then I cleaned up the data a bit, [see here](https://github.com/ageller/IntroToGlue/blob/main/data/prepNEOdata.ipynb).*\n",
    "\n",
    "<img src=\"https://upload.wikimedia.org/wikipedia/commons/c/ce/Asteroids-KnownNearEarthObjects-Animation-UpTo20180101.gif\" width=\"100%\" align=\"center\">\n",
    "\n",
    "*animated gif from [here](https://commons.wikimedia.org/wiki/File:Asteroids-KnownNearEarthObjects-Animation-UpTo20180101.gif)*\n"
   ]
  },
  {
   "cell_type": "code",
   "execution_count": 1,
   "id": "756daf15",
   "metadata": {},
   "outputs": [],
   "source": [
    "%gui qt5"
   ]
  },
  {
   "cell_type": "code",
   "execution_count": 2,
   "id": "737d05c4",
   "metadata": {},
   "outputs": [],
   "source": [
    "#import necessary libraries\n",
    "import pandas as pd\n",
    "from glue import qglue"
   ]
  },
  {
   "cell_type": "markdown",
   "id": "dad0c5a0",
   "metadata": {},
   "source": [
    "# Read in the data"
   ]
  },
  {
   "cell_type": "markdown",
   "id": "287e8fb7",
   "metadata": {},
   "source": [
    "## [JPL Small-Body Database](https://ssd.jpl.nasa.gov/sbdb_query.cgi)"
   ]
  },
  {
   "cell_type": "code",
   "execution_count": 3,
   "id": "609ed2d1",
   "metadata": {},
   "outputs": [
    {
     "data": {
      "text/html": [
       "<div>\n",
       "<style scoped>\n",
       "    .dataframe tbody tr th:only-of-type {\n",
       "        vertical-align: middle;\n",
       "    }\n",
       "\n",
       "    .dataframe tbody tr th {\n",
       "        vertical-align: top;\n",
       "    }\n",
       "\n",
       "    .dataframe thead th {\n",
       "        text-align: right;\n",
       "    }\n",
       "</style>\n",
       "<table border=\"1\" class=\"dataframe\">\n",
       "  <thead>\n",
       "    <tr style=\"text-align: right;\">\n",
       "      <th></th>\n",
       "      <th>id</th>\n",
       "      <th>spkid</th>\n",
       "      <th>full_name</th>\n",
       "      <th>pdes</th>\n",
       "      <th>name</th>\n",
       "      <th>prefix</th>\n",
       "      <th>neo</th>\n",
       "      <th>pha</th>\n",
       "      <th>H</th>\n",
       "      <th>G</th>\n",
       "      <th>...</th>\n",
       "      <th>n_obs_used</th>\n",
       "      <th>n_del_obs_used</th>\n",
       "      <th>n_dop_obs_used</th>\n",
       "      <th>condition_code</th>\n",
       "      <th>rms</th>\n",
       "      <th>two_body</th>\n",
       "      <th>A1</th>\n",
       "      <th>A2</th>\n",
       "      <th>A3</th>\n",
       "      <th>DT</th>\n",
       "    </tr>\n",
       "  </thead>\n",
       "  <tbody>\n",
       "    <tr>\n",
       "      <th>0</th>\n",
       "      <td>a0000433</td>\n",
       "      <td>2000433</td>\n",
       "      <td>433 Eros (A898 PA)</td>\n",
       "      <td>433</td>\n",
       "      <td>Eros</td>\n",
       "      <td>NaN</td>\n",
       "      <td>Y</td>\n",
       "      <td>N</td>\n",
       "      <td>10.43</td>\n",
       "      <td>0.46</td>\n",
       "      <td>...</td>\n",
       "      <td>9130</td>\n",
       "      <td>4.0</td>\n",
       "      <td>2.0</td>\n",
       "      <td>0.0</td>\n",
       "      <td>0.29796</td>\n",
       "      <td>NaN</td>\n",
       "      <td>NaN</td>\n",
       "      <td>NaN</td>\n",
       "      <td>NaN</td>\n",
       "      <td>NaN</td>\n",
       "    </tr>\n",
       "    <tr>\n",
       "      <th>1</th>\n",
       "      <td>a0000719</td>\n",
       "      <td>2000719</td>\n",
       "      <td>719 Albert (A911 TB)</td>\n",
       "      <td>719</td>\n",
       "      <td>Albert</td>\n",
       "      <td>NaN</td>\n",
       "      <td>Y</td>\n",
       "      <td>N</td>\n",
       "      <td>15.51</td>\n",
       "      <td>NaN</td>\n",
       "      <td>...</td>\n",
       "      <td>1894</td>\n",
       "      <td>NaN</td>\n",
       "      <td>NaN</td>\n",
       "      <td>0.0</td>\n",
       "      <td>0.39775</td>\n",
       "      <td>NaN</td>\n",
       "      <td>NaN</td>\n",
       "      <td>NaN</td>\n",
       "      <td>NaN</td>\n",
       "      <td>NaN</td>\n",
       "    </tr>\n",
       "    <tr>\n",
       "      <th>2</th>\n",
       "      <td>a0000887</td>\n",
       "      <td>2000887</td>\n",
       "      <td>887 Alinda (A918 AA)</td>\n",
       "      <td>887</td>\n",
       "      <td>Alinda</td>\n",
       "      <td>NaN</td>\n",
       "      <td>Y</td>\n",
       "      <td>N</td>\n",
       "      <td>13.87</td>\n",
       "      <td>-0.12</td>\n",
       "      <td>...</td>\n",
       "      <td>2624</td>\n",
       "      <td>NaN</td>\n",
       "      <td>NaN</td>\n",
       "      <td>0.0</td>\n",
       "      <td>0.39776</td>\n",
       "      <td>NaN</td>\n",
       "      <td>NaN</td>\n",
       "      <td>NaN</td>\n",
       "      <td>NaN</td>\n",
       "      <td>NaN</td>\n",
       "    </tr>\n",
       "  </tbody>\n",
       "</table>\n",
       "<p>3 rows × 75 columns</p>\n",
       "</div>"
      ],
      "text/plain": [
       "         id    spkid                full_name pdes    name prefix neo pha  \\\n",
       "0  a0000433  2000433       433 Eros (A898 PA)  433    Eros    NaN   Y   N   \n",
       "1  a0000719  2000719     719 Albert (A911 TB)  719  Albert    NaN   Y   N   \n",
       "2  a0000887  2000887     887 Alinda (A918 AA)  887  Alinda    NaN   Y   N   \n",
       "\n",
       "       H     G  ...  n_obs_used  n_del_obs_used  n_dop_obs_used  \\\n",
       "0  10.43  0.46  ...        9130             4.0             2.0   \n",
       "1  15.51   NaN  ...        1894             NaN             NaN   \n",
       "2  13.87 -0.12  ...        2624             NaN             NaN   \n",
       "\n",
       "   condition_code      rms  two_body  A1  A2  A3  DT  \n",
       "0             0.0  0.29796       NaN NaN NaN NaN NaN  \n",
       "1             0.0  0.39775       NaN NaN NaN NaN NaN  \n",
       "2             0.0  0.39776       NaN NaN NaN NaN NaN  \n",
       "\n",
       "[3 rows x 75 columns]"
      ]
     },
     "execution_count": 3,
     "metadata": {},
     "output_type": "execute_result"
    }
   ],
   "source": [
    "#the low_memory=False flag suppresses a warning message for a few columns with mixed data types \n",
    "jplsbdb = pd.read_csv('data/sbdb_query_results.csv', low_memory=False) \n",
    "jplsbdb.iloc[:3]"
   ]
  },
  {
   "cell_type": "markdown",
   "id": "bdec7d7b",
   "metadata": {},
   "source": [
    "## [NEO Earth Close Approaches archive](https://cneos.jpl.nasa.gov/ca/)\n",
    "\n",
    "(I cleaned the data file so that it can be used more easily; see the data/prepNEOdata.ipynb.)"
   ]
  },
  {
   "cell_type": "code",
   "execution_count": 4,
   "id": "4c555138",
   "metadata": {},
   "outputs": [
    {
     "data": {
      "text/html": [
       "<div>\n",
       "<style scoped>\n",
       "    .dataframe tbody tr th:only-of-type {\n",
       "        vertical-align: middle;\n",
       "    }\n",
       "\n",
       "    .dataframe tbody tr th {\n",
       "        vertical-align: top;\n",
       "    }\n",
       "\n",
       "    .dataframe thead th {\n",
       "        text-align: right;\n",
       "    }\n",
       "</style>\n",
       "<table border=\"1\" class=\"dataframe\">\n",
       "  <thead>\n",
       "    <tr style=\"text-align: right;\">\n",
       "      <th></th>\n",
       "      <th>pdes</th>\n",
       "      <th>Object</th>\n",
       "      <th>Close-Approach (CA) Date</th>\n",
       "      <th>CA Distance Nominal (AU)</th>\n",
       "      <th>CA Distance Minimum (AU)</th>\n",
       "      <th>V relative (km/s)</th>\n",
       "      <th>V infinity (km/s)</th>\n",
       "      <th>H (mag)</th>\n",
       "      <th>Diameter (km)</th>\n",
       "      <th>extra</th>\n",
       "    </tr>\n",
       "  </thead>\n",
       "  <tbody>\n",
       "    <tr>\n",
       "      <th>0</th>\n",
       "      <td>509352</td>\n",
       "      <td>509352 (2007 AG)</td>\n",
       "      <td>1900.096844</td>\n",
       "      <td>0.00963</td>\n",
       "      <td>0.00963</td>\n",
       "      <td>8.69</td>\n",
       "      <td>8.65</td>\n",
       "      <td>20.1</td>\n",
       "      <td>410000.0</td>\n",
       "      <td>a0509352</td>\n",
       "    </tr>\n",
       "    <tr>\n",
       "      <th>1</th>\n",
       "      <td>2014 SC324</td>\n",
       "      <td>(2014 SC324)</td>\n",
       "      <td>1900.113578</td>\n",
       "      <td>0.03997</td>\n",
       "      <td>0.03997</td>\n",
       "      <td>10.65</td>\n",
       "      <td>10.65</td>\n",
       "      <td>24.3</td>\n",
       "      <td>59500.0</td>\n",
       "      <td>bK14SW4C</td>\n",
       "    </tr>\n",
       "    <tr>\n",
       "      <th>2</th>\n",
       "      <td>2012 UK171</td>\n",
       "      <td>(2012 UK171)</td>\n",
       "      <td>1900.118827</td>\n",
       "      <td>0.04982</td>\n",
       "      <td>0.04982</td>\n",
       "      <td>7.16</td>\n",
       "      <td>7.15</td>\n",
       "      <td>24.4</td>\n",
       "      <td>55500.0</td>\n",
       "      <td>bK12UH1K</td>\n",
       "    </tr>\n",
       "  </tbody>\n",
       "</table>\n",
       "</div>"
      ],
      "text/plain": [
       "         pdes            Object  Close-Approach (CA) Date  \\\n",
       "0      509352  509352 (2007 AG)               1900.096844   \n",
       "1  2014 SC324      (2014 SC324)               1900.113578   \n",
       "2  2012 UK171      (2012 UK171)               1900.118827   \n",
       "\n",
       "   CA Distance Nominal (AU)  CA Distance Minimum (AU)  V relative (km/s)  \\\n",
       "0                   0.00963                   0.00963               8.69   \n",
       "1                   0.03997                   0.03997              10.65   \n",
       "2                   0.04982                   0.04982               7.16   \n",
       "\n",
       "   V infinity (km/s)  H (mag)  Diameter (km)     extra  \n",
       "0               8.65     20.1       410000.0  a0509352  \n",
       "1              10.65     24.3        59500.0  bK14SW4C  \n",
       "2               7.15     24.4        55500.0  bK12UH1K  "
      ]
     },
     "execution_count": 4,
     "metadata": {},
     "output_type": "execute_result"
    }
   ],
   "source": [
    "neoca = pd.read_csv('data/cneos_closeapproach_data-cleaned.csv')\n",
    "neoca.iloc[:3]"
   ]
  },
  {
   "cell_type": "markdown",
   "id": "03fc4416",
   "metadata": {},
   "source": [
    "# Start Glue with these data\n",
    "\n",
    "*[qglue](http://docs.glueviz.org/en/latest/python_guide/glue_from_python.html) is a way to send python data structures (Numpy arrays, Pandas dataframes, Astropy tables, others) to glue. It returns an application object wich contains lots of state about the application.*\n",
    "\n",
    "\n",
    "*The following code is supposed to allow glue to run within a notebook without blocking.  [See here.](http://docs.glueviz.org/en/stable/python_guide/glue_from_python.html#using-qglue-with-the-ipython-jupyter-notebook)*\n",
    "\n",
    "<br>\n",
    "<div style='background-color:#eeffcc; padding:10px; border: 1px solid #e1e4e5'>\n",
    "%gui qt\n",
    "</div>\n",
    "<br>\n",
    "<div style='background-color:#eeffcc; padding:10px; border: 1px solid #e1e4e5'>\n",
    "app = qglue(jplsbdb = jplsbdb, neoca = neoca)\n",
    "</div>\n",
    "<br>\n",
    "\n",
    "*But this does not work on my end. I recommend that you try it to see if you can make it work because it may simplify the workflow.  For now, I will run glue as a backgroundjob...*"
   ]
  },
  {
   "cell_type": "code",
   "execution_count": null,
   "id": "9593394c",
   "metadata": {},
   "outputs": [],
   "source": [
    "from IPython.lib import backgroundjobs as bg"
   ]
  },
  {
   "cell_type": "code",
   "execution_count": null,
   "id": "65df2940",
   "metadata": {},
   "outputs": [],
   "source": [
    "def runglue(*args):\n",
    "    app = qglue(jplsbdb = args[0], neoca = args[1])\n",
    "    return app"
   ]
  },
  {
   "cell_type": "code",
   "execution_count": null,
   "id": "f6ff9b4f",
   "metadata": {},
   "outputs": [],
   "source": [
    "jobs = bg.BackgroundJobManager()\n",
    "jobs.new(runglue, jplsbdb, neoca)"
   ]
  },
  {
   "cell_type": "code",
   "execution_count": null,
   "id": "54551d6f",
   "metadata": {},
   "outputs": [],
   "source": [
    "jobs.status()"
   ]
  },
  {
   "cell_type": "code",
   "execution_count": null,
   "id": "7268d39c",
   "metadata": {},
   "outputs": [],
   "source": [
    "jobs[0].result"
   ]
  },
  {
   "cell_type": "markdown",
   "id": "9ab6f1d0",
   "metadata": {},
   "source": [
    "## Manipulate the data in glue\n",
    "\n",
    "*Make a few plots and selections.  Let's try to reproduce (approximately) the image below.  If you're running as a background job, you will have to (save and) quite glue in order to have access to the data products in the notebook.  If you were able to run with the notebook magic command, you should be able to leave your glue session live.*"
   ]
  },
  {
   "cell_type": "markdown",
   "id": "12abb183",
   "metadata": {},
   "source": [
    "## Next, lets explore the selected data in python\n",
    "\n",
    "jobs[0].result *holds the return value from runglue, which is the qglue app.  Within that app you have access to the \"data_collection\".  Data Collections are list-like and contain each dataset from Glue. Individual datasets in Glue are dictionary-like.*"
   ]
  },
  {
   "cell_type": "code",
   "execution_count": null,
   "id": "b3f5de28",
   "metadata": {},
   "outputs": [],
   "source": [
    "jobs[0].result.data_collection"
   ]
  },
  {
   "cell_type": "code",
   "execution_count": null,
   "id": "72ee1b95",
   "metadata": {},
   "outputs": [],
   "source": []
  },
  {
   "cell_type": "code",
   "execution_count": null,
   "id": "bb8339d4",
   "metadata": {},
   "outputs": [],
   "source": [
    "from glue.app.qt.application import GlueApplication"
   ]
  },
  {
   "cell_type": "code",
   "execution_count": null,
   "id": "dd99cb96",
   "metadata": {},
   "outputs": [],
   "source": [
    "from glue.core import DataCollection"
   ]
  },
  {
   "cell_type": "code",
   "execution_count": 4,
   "id": "0ad7481b",
   "metadata": {},
   "outputs": [],
   "source": [
    "%gui qt"
   ]
  },
  {
   "cell_type": "code",
   "execution_count": null,
   "id": "66b480b7",
   "metadata": {},
   "outputs": [],
   "source": [
    "dc = DataCollection()\n",
    "dc['jplsbdb'] = jplsbdb"
   ]
  },
  {
   "cell_type": "code",
   "execution_count": null,
   "id": "199a65e4",
   "metadata": {},
   "outputs": [],
   "source": [
    "app = GlueApplication(dc)\n",
    "app.start()"
   ]
  },
  {
   "cell_type": "code",
   "execution_count": null,
   "id": "f7e6fc7c",
   "metadata": {
    "scrolled": true
   },
   "outputs": [],
   "source": [
    "app = qglue(jplsbdb = jplsbdb, neoca = neoca)"
   ]
  },
  {
   "cell_type": "code",
   "execution_count": null,
   "id": "699de975",
   "metadata": {},
   "outputs": [],
   "source": []
  }
 ],
 "metadata": {
  "kernelspec": {
   "display_name": "Python 3 (ipykernel)",
   "language": "python",
   "name": "python3"
  },
  "language_info": {
   "codemirror_mode": {
    "name": "ipython",
    "version": 3
   },
   "file_extension": ".py",
   "mimetype": "text/x-python",
   "name": "python",
   "nbconvert_exporter": "python",
   "pygments_lexer": "ipython3",
   "version": "3.7.11"
  }
 },
 "nbformat": 4,
 "nbformat_minor": 5
}
